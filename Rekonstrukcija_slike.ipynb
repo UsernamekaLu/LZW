{
 "cells": [
  {
   "cell_type": "code",
   "execution_count": 3,
   "id": "5dcc1411-2a13-41e2-9a9a-c52ed1885fef",
   "metadata": {
    "tags": []
   },
   "outputs": [],
   "source": [
    "import pickle\n",
    "from PIL import Image\n",
    "from funkcije import lzw_dekompresija\n",
    "\n",
    "with open('kompresovana_slika.pkl', 'rb') as f:\n",
    "    loaded_data = pickle.load(f)\n",
    "    \n",
    "kompresovana_sekvenca=list(loaded_data)\n",
    "\n",
    "dekompresovana_sekvenca = lzw_dekompresija(kompresovana_sekvenca)\n",
    "\n",
    "new_img = Image.new(\"L\", (256,256)) #moramo unijeti velicinu originalne slike\n",
    "\n",
    "new_img.putdata(dekompresovana_sekvenca)\n",
    "\n",
    "new_img.show()"
   ]
  },
  {
   "cell_type": "code",
   "execution_count": null,
   "id": "be0a3445-df28-49ab-9572-47b58487f123",
   "metadata": {},
   "outputs": [],
   "source": []
  }
 ],
 "metadata": {
  "kernelspec": {
   "display_name": "Python 3 (ipykernel)",
   "language": "python",
   "name": "python3"
  },
  "language_info": {
   "codemirror_mode": {
    "name": "ipython",
    "version": 3
   },
   "file_extension": ".py",
   "mimetype": "text/x-python",
   "name": "python",
   "nbconvert_exporter": "python",
   "pygments_lexer": "ipython3",
   "version": "3.11.5"
  }
 },
 "nbformat": 4,
 "nbformat_minor": 5
}
