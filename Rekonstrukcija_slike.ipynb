{
 "cells": [
  {
   "cell_type": "code",
   "execution_count": 19,
   "id": "5dcc1411-2a13-41e2-9a9a-c52ed1885fef",
   "metadata": {
    "tags": []
   },
   "outputs": [],
   "source": [
    "import pickle\n",
    "from PIL import Image\n",
    "\n",
    "with open('kompresovana_slika.pkl', 'rb') as f:\n",
    "    loaded_data = pickle.load(f)\n",
    "    \n",
    "kompresovana_sekvenca=list(loaded_data)\n",
    "\n",
    "def lzw_dekompresija(sekvenca):\n",
    "    rjecnik = dict() \n",
    "    \n",
    "    for i in range(0,256):\n",
    "        rjecnik[i] = [i] \n",
    "    \n",
    "    izlaz = []\n",
    "    \n",
    "    temp = sekvenca[0]\n",
    "    \n",
    "    izlaz.append(temp) \n",
    "    \n",
    "    stari_kod = temp\n",
    "    \n",
    "    temp_sekvenca = []\n",
    "    \n",
    "    for novi_kod in sekvenca[1:]:\n",
    "        if novi_kod in rjecnik:\n",
    "            temp_sekvenca = rjecnik[novi_kod]\n",
    "        else:\n",
    "            temp_sekvenca = rjecnik[stari_kod] + [temp]\n",
    "            \n",
    "        izlaz.extend(temp_sekvenca)\n",
    "    \n",
    "        temp = temp_sekvenca[0]\n",
    "    \n",
    "        rjecnik[len(rjecnik)] = rjecnik[stari_kod] + [temp]\n",
    "    \n",
    "        stari_kod = novi_kod\n",
    "    return izlaz\n",
    "\n",
    "dekompresovana_sekvenca = lzw_dekompresija(kompresovana_sekvenca)\n",
    "\n",
    "\n",
    "new_img = Image.new(\"L\", (256,256)) #moramo unijeti velicinu originalne slike\n",
    "\n",
    "new_img.putdata(dekompresovana_sekvenca)\n",
    "\n",
    "new_img.show()"
   ]
  },
  {
   "cell_type": "code",
   "execution_count": null,
   "id": "0ff1fc64-1dd7-459c-8127-cc73bd84f115",
   "metadata": {},
   "outputs": [],
   "source": []
  }
 ],
 "metadata": {
  "kernelspec": {
   "display_name": "Python 3 (ipykernel)",
   "language": "python",
   "name": "python3"
  },
  "language_info": {
   "codemirror_mode": {
    "name": "ipython",
    "version": 3
   },
   "file_extension": ".py",
   "mimetype": "text/x-python",
   "name": "python",
   "nbconvert_exporter": "python",
   "pygments_lexer": "ipython3",
   "version": "3.11.5"
  }
 },
 "nbformat": 4,
 "nbformat_minor": 5
}
