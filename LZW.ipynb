{
 "cells": [
  {
   "cell_type": "code",
   "execution_count": 11,
   "id": "cbdd0c22-3d6a-405b-b625-d8f278084d3e",
   "metadata": {
    "tags": []
   },
   "outputs": [
    {
     "name": "stdout",
     "output_type": "stream",
     "text": [
      "Odnos kompresije: 375.2%.\n",
      "Sačuvani prostor: 73.3%.\n",
      "Srednja kvadratna greška: 0.0.\n"
     ]
    }
   ],
   "source": [
    "from PIL import Image\n",
    "import numpy as np\n",
    "import pickle\n",
    "import os\n",
    "from funkcije import *\n",
    "\n",
    "image_path = \"lena.bmp\"\n",
    "\n",
    "img = Image.open(image_path) #slika koju zelimo da kompresujemo\n",
    "\n",
    "img = img.convert(\"L\")\n",
    "\n",
    "vr_piksela = list(img.getdata())\n",
    "\n",
    "sekvenca_piksela = vr_piksela[:]\n",
    "\n",
    "kompresovana_sekvenca = lzw_kompresija(sekvenca_piksela)\n",
    "\n",
    "kompresovana_sekvenca_np = np.array(kompresovana_sekvenca, dtype=np.uint16)\n",
    "\n",
    "with open('kompresovana_slika.pkl', 'wb') as f:   #wb - write binary, stavljamo naziv .pkl fajla\n",
    "    pickle.dump(kompresovana_sekvenca_np, f, protocol=4)\n",
    "\n",
    "dekompresovana_sekvenca = lzw_dekompresija(kompresovana_sekvenca)\n",
    "\n",
    "new_img = Image.new(\"L\", img.size)\n",
    "\n",
    "new_img.putdata(dekompresovana_sekvenca)\n",
    "\n",
    "new_img.show()\n",
    "\n",
    "velicina_originalne = os.path.getsize(image_path) #slika koju zelimo da kompresujemo\n",
    "\n",
    "velicina_kompresovane = os.path.getsize('kompresovana_slika.pkl') #.pkl fajl\n",
    "\n",
    "CR=velicina_originalne/velicina_kompresovane\n",
    "\n",
    "print(f\"Odnos kompresije: {CR*100:.1f}%.\")\n",
    "\n",
    "SS=1-1/CR\n",
    "\n",
    "print(f\"Sačuvani prostor: {SS*100:.1f}%.\")\n",
    "\n",
    "suma=0\n",
    "\n",
    "n=len(sekvenca_piksela)\n",
    "\n",
    "for i in range(n):\n",
    "    suma+=(sekvenca_piksela[i]-dekompresovana_sekvenca[i])**2\n",
    "\n",
    "print(f\"Srednja kvadratna greška: {suma/n}.\")\n"
   ]
  },
  {
   "cell_type": "code",
   "execution_count": null,
   "id": "af44cc2f-12e3-4fae-9730-afc3c706c779",
   "metadata": {},
   "outputs": [],
   "source": []
  }
 ],
 "metadata": {
  "kernelspec": {
   "display_name": "Python 3 (ipykernel)",
   "language": "python",
   "name": "python3"
  },
  "language_info": {
   "codemirror_mode": {
    "name": "ipython",
    "version": 3
   },
   "file_extension": ".py",
   "mimetype": "text/x-python",
   "name": "python",
   "nbconvert_exporter": "python",
   "pygments_lexer": "ipython3",
   "version": "3.11.5"
  }
 },
 "nbformat": 4,
 "nbformat_minor": 5
}
